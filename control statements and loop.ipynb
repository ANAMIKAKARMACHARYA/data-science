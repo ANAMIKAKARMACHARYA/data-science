{
  "cells": [
    {
      "cell_type": "markdown",
      "metadata": {
        "id": "LiMaLuBgQUtD"
      },
      "source": [
        "# anamika"
      ]
    },
    {
      "cell_type": "code",
      "execution_count": null,
      "metadata": {
        "id": "skspDdYvQUtO",
        "outputId": "7f72acd7-4906-4e7c-d090-3338b59cd1f3"
      },
      "outputs": [
        {
          "name": "stdout",
          "output_type": "stream",
          "text": [
            "anamika\n",
            "anamika\n",
            "anamika\n",
            "anamika\n",
            "anamika\n",
            "anamika\n",
            "anamika\n",
            "anamika\n",
            "anamika\n",
            "anamika\n",
            "\n"
          ]
        }
      ],
      "source": [
        "print(\"anamika\\n\"*10)"
      ]
    },
    {
      "cell_type": "markdown",
      "metadata": {
        "id": "_NidnLkZQUtR"
      },
      "source": [
        "# if else"
      ]
    },
    {
      "cell_type": "code",
      "execution_count": null,
      "metadata": {
        "id": "K3JTUMj_QUtT",
        "outputId": "c4d48aa1-a2c5-455b-b4a7-4cee98c39b97"
      },
      "outputs": [
        {
          "name": "stdout",
          "output_type": "stream",
          "text": [
            "yes\n"
          ]
        }
      ],
      "source": [
        "if(3>2):\n",
        "    print(\"yes\")\n",
        "else:\n",
        "    print(\"no\")\n"
      ]
    },
    {
      "cell_type": "code",
      "execution_count": null,
      "metadata": {
        "id": "PoMj6JPlQUtV",
        "outputId": "9eb5553d-3686-4529-84d2-1a7830d7dc8a"
      },
      "outputs": [
        {
          "name": "stdout",
          "output_type": "stream",
          "text": [
            "you are not eligible\n"
          ]
        }
      ],
      "source": [
        "age = int(input(\"enter your age\"))\n",
        "if(age>=16):\n",
        "    print(\"you are eligible to get a citizenship!!\")\n",
        "else:\n",
        "    print(\"you are not eligible\")"
      ]
    },
    {
      "cell_type": "code",
      "execution_count": null,
      "metadata": {
        "id": "geNCrsyZQUtX",
        "outputId": "ba5f2168-05f8-468a-e67b-2d2a8680fbc2"
      },
      "outputs": [
        {
          "name": "stdout",
          "output_type": "stream",
          "text": [
            "number is between 0-50\n"
          ]
        }
      ],
      "source": [
        "n = float(input(\"enter a number\"))\n",
        "if(n<0):\n",
        "    print(\"number is less than zero\")\n",
        "elif(n<50 and n>0):\n",
        "    print(\"number is between 0-50\")\n",
        "elif(n>50 and n<100):\n",
        "    print(\"the number is between 50-100\")\n",
        "else:\n",
        "    print(\"invalid\")"
      ]
    },
    {
      "cell_type": "markdown",
      "metadata": {
        "id": "965YThtFQUtY"
      },
      "source": [
        "# for loop"
      ]
    },
    {
      "cell_type": "code",
      "execution_count": null,
      "metadata": {
        "id": "Q0wWvaTdQUta",
        "outputId": "5e0284e6-c6f5-4d7f-947a-3b99f8688812"
      },
      "outputs": [
        {
          "name": "stdout",
          "output_type": "stream",
          "text": [
            "steps: 0\n",
            "steps: 1\n",
            "steps: 2\n",
            "steps: 3\n",
            "steps: 4\n",
            "steps: 5\n",
            "steps: 6\n",
            "steps: 7\n",
            "steps: 8\n",
            "steps: 9\n"
          ]
        }
      ],
      "source": [
        "for i in range(10):\n",
        "    print(f\"steps: {i}\")"
      ]
    },
    {
      "cell_type": "code",
      "execution_count": null,
      "metadata": {
        "id": "VzJLzgkzQUtb",
        "outputId": "f0527aaa-ccd9-490a-e38e-31bf17127fad"
      },
      "outputs": [
        {
          "name": "stdout",
          "output_type": "stream",
          "text": [
            "steps: 10\n",
            "steps: 12\n",
            "steps: 14\n",
            "steps: 16\n",
            "steps: 18\n"
          ]
        }
      ],
      "source": [
        "for i in range(10,20,2):\n",
        "    print(f\"steps: {i}\")"
      ]
    },
    {
      "cell_type": "code",
      "execution_count": null,
      "metadata": {
        "id": "Gfbzeq8oQUtd",
        "outputId": "9b204444-c41f-43b0-c520-183f22ae7046"
      },
      "outputs": [
        {
          "name": "stdout",
          "output_type": "stream",
          "text": [
            "sum=15\n"
          ]
        }
      ],
      "source": [
        "sum=0\n",
        "n = int(input(\"enter a number\"))\n",
        "for i in range (n):\n",
        "    sum=sum + i\n",
        "    if(i== 5):\n",
        "        break\n",
        "print(f\"sum={sum}\")"
      ]
    },
    {
      "cell_type": "code",
      "execution_count": null,
      "metadata": {
        "id": "uI1Sz5h4QUte",
        "outputId": "6ee69ab5-74ec-40cd-b3b9-95bfaa4facdd"
      },
      "outputs": [
        {
          "name": "stdout",
          "output_type": "stream",
          "text": [
            "sum=70\n"
          ]
        }
      ],
      "source": [
        "sum=0\n",
        "for i in range (10,20,2):\n",
        "    sum=sum + i\n",
        "print(f\"sum={sum}\")"
      ]
    },
    {
      "cell_type": "markdown",
      "metadata": {
        "id": "qRBmmf1WQUtf"
      },
      "source": [
        "# Break and Continue"
      ]
    },
    {
      "cell_type": "code",
      "execution_count": null,
      "metadata": {
        "id": "5IGiHmuPQUth",
        "outputId": "9817ae54-6fc3-4bad-92c5-0166c295c506"
      },
      "outputs": [
        {
          "name": "stdout",
          "output_type": "stream",
          "text": [
            "steps: 10\n",
            "steps: 11\n",
            "steps: 12\n",
            "steps: 13\n",
            "steps: 14\n",
            "steps: 15\n"
          ]
        }
      ],
      "source": [
        "for i in range(10,20):\n",
        "    if(i==16):\n",
        "        break\n",
        "    print(f\"steps: {i}\")"
      ]
    },
    {
      "cell_type": "code",
      "execution_count": null,
      "metadata": {
        "id": "kyG3Vk2yQUtk",
        "outputId": "9c4851b7-9177-4b5e-bbbd-e40907d128f7"
      },
      "outputs": [
        {
          "name": "stdout",
          "output_type": "stream",
          "text": [
            "sum=0\n",
            "sum=1\n",
            "sum=3\n",
            "sum=6\n",
            "sum=10\n"
          ]
        }
      ],
      "source": [
        "sum=0\n",
        "n = int(input(\"enter a number\"))\n",
        "for i in range (n):\n",
        "    sum=sum + i\n",
        "    if(i== 5):\n",
        "        break\n",
        "print(f\"sum={sum}\")\n"
      ]
    },
    {
      "cell_type": "code",
      "execution_count": null,
      "metadata": {
        "id": "RKDA6dudQUtm",
        "outputId": "7e433995-d1c4-4a38-f5b9-0ccbc00cd269"
      },
      "outputs": [
        {
          "name": "stdout",
          "output_type": "stream",
          "text": [
            "sum=15\n"
          ]
        }
      ],
      "source": [
        "sum=0\n",
        "n = int(input(\"enter a number\"))\n",
        "for i in range (n):\n",
        "    sum=sum + i\n",
        "    if(i== 5):\n",
        "        continue\n",
        "print(f\"sum={sum}\")"
      ]
    },
    {
      "cell_type": "code",
      "execution_count": null,
      "metadata": {
        "id": "SI_R8n6EQUtn",
        "outputId": "172ab15a-dfe4-417a-f808-eb09cfff1e70"
      },
      "outputs": [
        {
          "name": "stdout",
          "output_type": "stream",
          "text": [
            "0\n",
            "1\n",
            "2\n",
            "3\n",
            "4\n",
            "5\n",
            "6\n",
            "7\n",
            "8\n",
            "9\n",
            "10\n"
          ]
        }
      ],
      "source": [
        "i=0\n",
        "while(i<=10):\n",
        "    print(i)\n",
        "    i=i+1"
      ]
    },
    {
      "cell_type": "markdown",
      "metadata": {
        "id": "OK01i_C4QUto"
      },
      "source": [
        "# while loop"
      ]
    },
    {
      "cell_type": "code",
      "execution_count": null,
      "metadata": {
        "id": "wnKuxh2sQUto",
        "outputId": "83c129f1-0081-4712-96c9-0bbedf9b3e93"
      },
      "outputs": [
        {
          "name": "stdout",
          "output_type": "stream",
          "text": [
            "sum=55\n"
          ]
        }
      ],
      "source": [
        "i=1\n",
        "sum=0\n",
        "while(i<=10):\n",
        "    sum=sum+i\n",
        "    i=i+1\n",
        "print(f\"sum={sum}\")"
      ]
    },
    {
      "cell_type": "markdown",
      "metadata": {
        "id": "T5NmEip7QUtp"
      },
      "source": [
        "# list and array"
      ]
    },
    {
      "cell_type": "code",
      "execution_count": null,
      "metadata": {
        "id": "-451qUVWQUtp"
      },
      "outputs": [],
      "source": [
        "name = [\"apple\" , \"banana\" , \"mango\" , True]\n",
        "for i in (name):\n",
        "    print(f\"position {index} ,and value==>{value}\")\n",
        "type(name)"
      ]
    },
    {
      "cell_type": "code",
      "execution_count": null,
      "metadata": {
        "id": "wnxA1vR0QUtp",
        "outputId": "6af7e97f-a24c-470c-86da-1c38b346a915"
      },
      "outputs": [
        {
          "name": "stdout",
          "output_type": "stream",
          "text": [
            "position 0 ,and value==>apple\n",
            "position 1 ,and value==>banana\n",
            "position 2 ,and value==>mango\n",
            "position 3 ,and value==>True\n"
          ]
        },
        {
          "data": {
            "text/plain": [
              "list"
            ]
          },
          "execution_count": 64,
          "metadata": {},
          "output_type": "execute_result"
        }
      ],
      "source": [
        "name = [\"apple\" , \"banana\" , \"mango\" , True]\n",
        "for index,value in enumerate (name):\n",
        "    print(f\"position {index} ,and value==>{value}\")\n",
        "type(name)"
      ]
    },
    {
      "cell_type": "code",
      "execution_count": null,
      "metadata": {
        "id": "yDv0avL6QUtp",
        "outputId": "1e66819b-c44c-4666-b0f0-2ab657b09579"
      },
      "outputs": [
        {
          "name": "stdout",
          "output_type": "stream",
          "text": [
            "position 0 ,and value==>mango\n",
            "position 1 ,and value==>banana\n",
            "position 2 ,and value==>apple\n",
            "position 3 ,and value==>True\n"
          ]
        },
        {
          "data": {
            "text/plain": [
              "set"
            ]
          },
          "execution_count": 66,
          "metadata": {},
          "output_type": "execute_result"
        }
      ],
      "source": [
        "name = {\"apple\" , \"banana\" , \"mango\" , True}\n",
        "for index,value in enumerate (name):\n",
        "    print(f\"position {index} ,and value==>{value}\")\n",
        "type(name)"
      ]
    },
    {
      "cell_type": "markdown",
      "metadata": {
        "id": "a8a-rhfKQUtq"
      },
      "source": [
        "# Function"
      ]
    },
    {
      "cell_type": "code",
      "execution_count": null,
      "metadata": {
        "id": "rUX2UxZpQUtq",
        "outputId": "13b836e9-995b-4b24-8bb7-092b126832c7"
      },
      "outputs": [
        {
          "name": "stdout",
          "output_type": "stream",
          "text": [
            "8\n"
          ]
        }
      ],
      "source": [
        "def add(a,b):\n",
        "    sum=a+b\n",
        "    print(sum)\n",
        "add(5,3)\n"
      ]
    },
    {
      "cell_type": "code",
      "execution_count": null,
      "metadata": {
        "id": "JfP2fDKaQUtq",
        "outputId": "eefa0442-44f3-4114-966c-c0e6749574ff"
      },
      "outputs": [
        {
          "name": "stdout",
          "output_type": "stream",
          "text": [
            "inside function 11\n",
            "outside function 11\n"
          ]
        }
      ],
      "source": [
        "def add(a,b):\n",
        "    sum=a+b\n",
        "    print(\"inside function\",sum)\n",
        "    return sum\n",
        "sum=add(5,6)\n",
        "print(\"outside function\",sum)"
      ]
    },
    {
      "cell_type": "code",
      "execution_count": null,
      "metadata": {
        "colab": {
          "base_uri": "https://localhost:8080/"
        },
        "id": "sL89AeexQUtq",
        "outputId": "b93286a4-4344-440f-f62e-6bdba405fc85"
      },
      "outputs": [
        {
          "output_type": "stream",
          "name": "stdout",
          "text": [
            "enter the value:4\n",
            "4 is not prime\n"
          ]
        }
      ],
      "source": [
        "n= int(input(\"enter the value:\"))\n",
        "def check(a):\n",
        "  count=0\n",
        "  for i in range (1 , a+1):\n",
        "      if(a%i==0):\n",
        "            count+=1\n",
        "  if(count == 2):\n",
        "            print(f\"{a} is prime\")\n",
        "  else:\n",
        "            print(f\"{a} is not prime\")\n",
        "check(n)\n"
      ]
    },
    {
      "cell_type": "markdown",
      "source": [
        "# **Assignment**"
      ],
      "metadata": {
        "id": "6W9pDxCzlaVc"
      }
    },
    {
      "cell_type": "markdown",
      "source": [
        "#  1) Guess the number game:\n",
        "problem:\n",
        "  1) The program randomly selects a number between 1 and 100\n",
        "  2) The user has to guess the number\n",
        "  HINT: the program must provide hints link its too high or too low\n",
        "  3) The game ends when user guesses the correct number or exceeds 5 attepts"
      ],
      "metadata": {
        "id": "X1jMjbGUmTQW"
      }
    },
    {
      "cell_type": "code",
      "source": [
        "import random\n",
        "def guess_the_number():\n",
        "  number_to_guess = random.randint(1, 100)\n",
        "  guesses=0\n",
        "  max_guesses = 5\n",
        "  while(guesses < max_guesses):\n",
        "    try:\n",
        "      n=int(input(\"Enter a number\"))\n",
        "    except ValueError:\n",
        "      print(\"Enter a valid number\")\n",
        "      continue\n",
        "    if(n == number_to_guess):\n",
        "      print(\"CONGRATULATIONS!!!You've guessed the number.\")\n",
        "      break\n",
        "    elif(n<number_to_guess):\n",
        "      print(\"Too low!!!!\")\n",
        "    else:\n",
        "      print(\"Too high!!!!\")\n",
        "  guesses+= 1\n",
        "  if(guesses==max_guesses and n!=number_to_guess):\n",
        "      print(f\"You've exceeded five attempts.The number was {number_to_guess}\")\n",
        "guess_the_number()"
      ],
      "metadata": {
        "colab": {
          "base_uri": "https://localhost:8080/"
        },
        "id": "AgsPpkU1vk58",
        "outputId": "2436fc4b-9a64-4102-8057-d95508872289"
      },
      "execution_count": null,
      "outputs": [
        {
          "output_type": "stream",
          "name": "stdout",
          "text": [
            "Enter a number13\n",
            "Too high!!!!\n",
            "Enter a number1\n",
            "Too low!!!!\n",
            "Enter a number10\n",
            "CONGRATULATIONS!!!You've guessed the number.\n"
          ]
        }
      ]
    },
    {
      "cell_type": "markdown",
      "source": [
        "#  2) WAP to generate the fibonacci sequence upto n terms using while loop and function \"generate _ fibo (n)\""
      ],
      "metadata": {
        "id": "VoeagRAXmfhn"
      }
    },
    {
      "cell_type": "code",
      "source": [
        "n=int(input(\"enter a number:\"))\n",
        "def generate_fibo(n):\n",
        "  a=0\n",
        "  b=1\n",
        "  c=0\n",
        "  print(a)\n",
        "  print(b)\n",
        "  while(c<n):\n",
        "    c=a+b\n",
        "    a=b\n",
        "    b=c\n",
        "    print(c)\n",
        "generate_fibo(n)\n",
        "\n"
      ],
      "metadata": {
        "colab": {
          "base_uri": "https://localhost:8080/"
        },
        "id": "H0OeBNkRmhu3",
        "outputId": "f4af8763-fda1-4e39-f0eb-566e077571e0"
      },
      "execution_count": null,
      "outputs": [
        {
          "output_type": "stream",
          "name": "stdout",
          "text": [
            "enter a number:12\n",
            "0\n",
            "1\n",
            "1\n",
            "2\n",
            "3\n",
            "5\n",
            "8\n",
            "13\n"
          ]
        }
      ]
    }
  ],
  "metadata": {
    "kernelspec": {
      "display_name": "Python 3",
      "language": "python",
      "name": "python3"
    },
    "language_info": {
      "codemirror_mode": {
        "name": "ipython",
        "version": 3
      },
      "file_extension": ".py",
      "mimetype": "text/x-python",
      "name": "python",
      "nbconvert_exporter": "python",
      "pygments_lexer": "ipython3",
      "version": "3.13.0"
    },
    "colab": {
      "provenance": []
    }
  },
  "nbformat": 4,
  "nbformat_minor": 0
}