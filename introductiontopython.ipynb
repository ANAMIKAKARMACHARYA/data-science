{
  "cells": [
    {
      "cell_type": "code",
      "execution_count": null,
      "metadata": {
        "id": "6wrnBxvA-hUI",
        "outputId": "92349208-5132-41e9-f2e0-aa170cbff225"
      },
      "outputs": [
        {
          "name": "stdout",
          "output_type": "stream",
          "text": [
            "hello world\n"
          ]
        }
      ],
      "source": [
        "print(\"hello world\")"
      ]
    },
    {
      "cell_type": "code",
      "execution_count": null,
      "metadata": {
        "id": "tPG1kGzW-hUK",
        "outputId": "7894a002-c8ab-4e4a-f9ca-7fbb3853b851"
      },
      "outputs": [
        {
          "name": "stdout",
          "output_type": "stream",
          "text": [
            "anamika 5.2 11 True\n"
          ]
        }
      ],
      "source": [
        "name = \"anamika\" #string\n",
        "height = 5.2 #float\n",
        "roll = 11 #int\n",
        "status = True #bool\n",
        "print(name,height,roll,status)"
      ]
    },
    {
      "cell_type": "code",
      "execution_count": null,
      "metadata": {
        "id": "BXWMYxjS-hUK",
        "outputId": "22387b6c-cf27-40ca-e4dd-749fc8e97f93"
      },
      "outputs": [
        {
          "name": "stdout",
          "output_type": "stream",
          "text": [
            "5\n"
          ]
        }
      ],
      "source": [
        "#add two numbers\n",
        "first = int(input(\"enter first number\"))\n",
        "second = int(input(\"enter second number\"))\n",
        "sum = first+second\n",
        "print(sum)"
      ]
    },
    {
      "cell_type": "code",
      "execution_count": null,
      "metadata": {
        "id": "blZxhrdD-hUK",
        "outputId": "1216de93-f018-449e-cb0a-c5ca0b7a97cb"
      },
      "outputs": [
        {
          "name": "stdout",
          "output_type": "stream",
          "text": [
            "anamikaaaa\n"
          ]
        }
      ],
      "source": [
        "name = input(\"enter your name\")\n",
        "print(name)"
      ]
    },
    {
      "cell_type": "code",
      "execution_count": null,
      "metadata": {
        "id": "WoksiBKW-hUL",
        "outputId": "30d48e38-4f96-420c-b4ce-8768acdf5b06"
      },
      "outputs": [
        {
          "name": "stdout",
          "output_type": "stream",
          "text": [
            "False\n"
          ]
        }
      ],
      "source": [
        "a = 4\n",
        "b = 8\n",
        "print (a>=b)"
      ]
    },
    {
      "cell_type": "code",
      "execution_count": null,
      "metadata": {
        "id": "cAV-DmU8-hUL",
        "outputId": "0415e9a2-3cb6-4b81-f0ac-b56b5128d28f"
      },
      "outputs": [
        {
          "name": "stdout",
          "output_type": "stream",
          "text": [
            "False\n"
          ]
        }
      ],
      "source": [
        "# logical operator\n",
        "value =True\n",
        "print(not value)"
      ]
    },
    {
      "cell_type": "code",
      "execution_count": null,
      "metadata": {
        "id": "m8AAuDAK-hUL",
        "outputId": "5aba3c0f-6a89-49b8-e4a4-fece174268b8"
      },
      "outputs": [
        {
          "name": "stdout",
          "output_type": "stream",
          "text": [
            "True\n"
          ]
        }
      ],
      "source": [
        "value1=True\n",
        "value2=True\n",
        "print(value1 and value2)"
      ]
    },
    {
      "cell_type": "code",
      "execution_count": null,
      "metadata": {
        "id": "fuN85Cu0-hUL",
        "outputId": "8f322c2b-0583-49b1-af1a-c4a38cb58a82"
      },
      "outputs": [
        {
          "name": "stdout",
          "output_type": "stream",
          "text": [
            "True\n"
          ]
        }
      ],
      "source": [
        "value1=True\n",
        "value2=True\n",
        "print(value1 or value2)"
      ]
    }
  ],
  "metadata": {
    "kernelspec": {
      "display_name": "Python 3",
      "language": "python",
      "name": "python3"
    },
    "language_info": {
      "codemirror_mode": {
        "name": "ipython",
        "version": 3
      },
      "file_extension": ".py",
      "mimetype": "text/x-python",
      "name": "python",
      "nbconvert_exporter": "python",
      "pygments_lexer": "ipython3",
      "version": "3.13.0"
    },
    "colab": {
      "provenance": []
    }
  },
  "nbformat": 4,
  "nbformat_minor": 0
}