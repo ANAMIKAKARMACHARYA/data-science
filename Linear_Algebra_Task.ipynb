{
  "cells": [
    {
      "cell_type": "markdown",
      "source": [
        "# Assignment\n"
      ],
      "metadata": {
        "id": "woEBG4pAqZba"
      }
    },
    {
      "cell_type": "markdown",
      "metadata": {
        "id": "avd3FYANqUug"
      },
      "source": [
        "# Matrix Operation"
      ]
    },
    {
      "cell_type": "markdown",
      "metadata": {
        "id": "WLh_mNd3qUui"
      },
      "source": [
        "Perform the following operations on the given matrices:\n",
        "A=[[2    -1], [​0    3​]]\n",
        "B=[[1   ​ 2], [-3    4​]]\n",
        "a. A+B\n",
        "b. AB\n",
        "c. 3A−2B"
      ]
    },
    {
      "cell_type": "code",
      "execution_count": null,
      "metadata": {
        "id": "Pe8Qht5OqUul",
        "outputId": "25fbc0c1-5588-4bdb-ed20-b040a83d8a03"
      },
      "outputs": [
        {
          "name": "stdout",
          "output_type": "stream",
          "text": [
            "The sum of matrix is:\n",
            " [[ 3  1]\n",
            " [-3  7]]\n"
          ]
        }
      ],
      "source": [
        "# a. A+B\n",
        "import numpy as np\n",
        "A=np.array([[2,-1],[0,3]])\n",
        "B=np.array([[1,2],[-3,4]])\n",
        "result=np.add(A,B)\n",
        "print(f\"The sum of matrix is:\\n {result}\")\n",
        "\n",
        ""
      ]
    },
    {
      "cell_type": "code",
      "execution_count": null,
      "metadata": {
        "id": "66w6u0aeqUun",
        "outputId": "d65708e8-34fa-4234-fcaa-e87474eefc39"
      },
      "outputs": [
        {
          "name": "stdout",
          "output_type": "stream",
          "text": [
            "AB:\n",
            " [[ 5  0]\n",
            " [-9 12]]\n"
          ]
        }
      ],
      "source": [
        "# b. AB\n",
        "import numpy as np\n",
        "A=np.array([[2,-1], [0,3]])\n",
        "B=np.array([[1,2],[-3,4]])\n",
        "result=np.dot(A,B)\n",
        "print(f\"AB:\\n {result}\")\n"
      ]
    },
    {
      "cell_type": "code",
      "execution_count": null,
      "metadata": {
        "id": "t8xkcuMjqUuo",
        "outputId": "0a667ed0-9d05-4dd3-eda6-6716e7ef2b1d"
      },
      "outputs": [
        {
          "name": "stdout",
          "output_type": "stream",
          "text": [
            "3A-2B=\n",
            " [[ 4 -7]\n",
            " [ 6  1]]\n"
          ]
        }
      ],
      "source": [
        "# c. 3A−2B\n",
        "import numpy as np\n",
        "A=np.array([[2,-1],[0,3]])\n",
        "B=np.array([[1,2],[-3,4]])\n",
        "a=np.dot(3,A)\n",
        "b=np.dot(2,B)\n",
        "result=np.subtract(a,b)\n",
        "print(f\"3A-2B=\\n {result}\")\n"
      ]
    },
    {
      "cell_type": "markdown",
      "metadata": {
        "id": "XA8BvPTPqUuo"
      },
      "source": [
        "# Determinants and Inverses  "
      ]
    },
    {
      "cell_type": "markdown",
      "metadata": {
        "id": "fK6GV-2AqUuo"
      },
      "source": [
        "Find the determinant of A.\n",
        "Determine whether A is invertible. If yes, calculate A−1."
      ]
    },
    {
      "cell_type": "code",
      "execution_count": null,
      "metadata": {
        "id": "RIITKZakqUup",
        "outputId": "704e04ab-abe1-4643-b4f6-2aa5bedf01be"
      },
      "outputs": [
        {
          "name": "stdout",
          "output_type": "stream",
          "text": [
            "The determinant of A is: 6.0\n"
          ]
        }
      ],
      "source": [
        "# Find the determinant of A.\n",
        "import numpy as np\n",
        "import numpy.linalg as LA\n",
        "A=np.array([[2,-1],[0,3]])\n",
        "det_A=LA.det(A)\n",
        "print(f\"The determinant of A is: {det_A}\")"
      ]
    },
    {
      "cell_type": "code",
      "execution_count": null,
      "metadata": {
        "id": "dik9uDtNqUup",
        "outputId": "7562c8cd-a4eb-4d7e-b2b5-2f3d48c95492"
      },
      "outputs": [
        {
          "name": "stdout",
          "output_type": "stream",
          "text": [
            "The determinant of A is: 6.0\n",
            "Inverse of matrix A exists.\n",
            "The inverse of the matrix A is:\n",
            "[[0.5        0.16666667]\n",
            " [0.         0.33333333]]\n"
          ]
        }
      ],
      "source": [
        "# Determine whether A is invertible. If yes, calculate A−1.\n",
        "import numpy as np\n",
        "import numpy.linalg as LA\n",
        "A=np.array([[2,-1],[0,3]])\n",
        "det_A=LA.det(A)\n",
        "print(f\"The determinant of A is: {det_A}\")\n",
        "if(not det_A==0):\n",
        "    print(\"Inverse of matrix A exists.\")\n",
        "    inverse = LA.inv(A)\n",
        "    print(\"The inverse of the matrix A is:\")\n",
        "    print(inverse)\n",
        "else:\n",
        "    print(\"Inverse of matrix A doesn't exist.\")"
      ]
    },
    {
      "cell_type": "markdown",
      "metadata": {
        "id": "hRN_mOQSqUuq"
      },
      "source": [
        "# Eigenvalues and Eigenvectors"
      ]
    },
    {
      "cell_type": "markdown",
      "metadata": {
        "id": "axjFuV4XqUuq"
      },
      "source": [
        "Compute the eigenvalues and eigenvectors of the matrix:\n",
        "C=[[4    1], [​−2       1]​]"
      ]
    },
    {
      "cell_type": "code",
      "execution_count": null,
      "metadata": {
        "id": "08x8EjveqUuq",
        "outputId": "5c6f9f86-ce05-4651-df55-83dcf15954e9"
      },
      "outputs": [
        {
          "name": "stdout",
          "output_type": "stream",
          "text": [
            "Matrix C:\n",
            "[[ 4  1]\n",
            " [-2  1]]\n",
            "\n",
            "Eigenvalue (first):\n",
            "3.0\n",
            "\n",
            "Corresponding Eigenvector:\n",
            "[ 0.70710678 -0.70710678]\n"
          ]
        }
      ],
      "source": [
        "import numpy as np\n",
        "C = np.array([[4, 1],[-2, 1]])\n",
        "eigenvalues, eigenvectors = np.linalg.eig(C)\n",
        "print(\"Matrix C:\")\n",
        "print(C)\n",
        "print(\"\\nEigenvalue (first):\")\n",
        "print(eigenvalues[0])\n",
        "print(\"\\nCorresponding Eigenvector:\")\n",
        "print(eigenvectors[:, 0])"
      ]
    },
    {
      "cell_type": "markdown",
      "metadata": {
        "id": "lrzYKQbXqUur"
      },
      "source": [
        "# Question 4"
      ]
    },
    {
      "cell_type": "markdown",
      "metadata": {
        "id": "5yYStNXmqUur"
      },
      "source": [
        "4.\n",
        "You are given a dataset of cars with the following features:Number of cylinders (x1​)Engine size in liters (x2​)Horsepower (x3)\n",
        "car 1:\n",
        "x1: 4\n",
        "x2:  1.5\n",
        "x3: 100\n",
        "and price: 20\n",
        "\n",
        "car 2:\n",
        "x1: 6\n",
        "x2:  2.0\n",
        "x3: 150\n",
        "and price: 30\n",
        "\n",
        "Then, find the price of a car 3 with features\n",
        "x1: 8\n",
        "x2:  3.0\n",
        "x3: 200\n",
        "price:?"
      ]
    },
    {
      "cell_type": "code",
      "execution_count": null,
      "metadata": {
        "id": "Ejb68LGDqUur",
        "outputId": "d4dba9d8-e307-4154-ec28-a77e1360d874"
      },
      "outputs": [
        {
          "name": "stdout",
          "output_type": "stream",
          "text": [
            "The coefficient of β is [ 7.98722045e-03 -4.12114787e-13  1.99680511e-01] \n",
            "The price of car 3 is 40.00\n"
          ]
        }
      ],
      "source": [
        "import numpy as np\n",
        "X=np.array([[4,1.5,100], [6,2.0,150]])\n",
        "y=np.array([20,30])\n",
        "x=X.T\n",
        "β=np.linalg.pinv(x.dot(X)) .dot(x).dot(y)\n",
        "print(f\"The coefficient of β is {β} \")\n",
        "car3=np.array([8,3.0,200])\n",
        "price=car3.dot(β)\n",
        "print(f\"The price of car 3 is {price:.2f}\")\n",
        "\n"
      ]
    }
  ],
  "metadata": {
    "kernelspec": {
      "display_name": "Python 3",
      "language": "python",
      "name": "python3"
    },
    "language_info": {
      "codemirror_mode": {
        "name": "ipython",
        "version": 3
      },
      "file_extension": ".py",
      "mimetype": "text/x-python",
      "name": "python",
      "nbconvert_exporter": "python",
      "pygments_lexer": "ipython3",
      "version": "3.13.0"
    },
    "colab": {
      "provenance": [],
      "toc_visible": true
    }
  },
  "nbformat": 4,
  "nbformat_minor": 0
}